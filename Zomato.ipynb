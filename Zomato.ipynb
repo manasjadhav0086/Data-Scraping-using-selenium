{
 "cells": [
  {
   "cell_type": "code",
   "execution_count": 22,
   "id": "727efca7-48de-4c6a-8814-b817f29cd47b",
   "metadata": {},
   "outputs": [],
   "source": [
    "from selenium import webdriver\n",
    "from selenium.webdriver.common.by import By\n",
    "import pandas as pd"
   ]
  },
  {
   "cell_type": "code",
   "execution_count": 2,
   "id": "a9a5774c-7d68-490a-a029-94335f6059ac",
   "metadata": {},
   "outputs": [],
   "source": [
    "driver = webdriver.Chrome()"
   ]
  },
  {
   "cell_type": "code",
   "execution_count": 3,
   "id": "ea1f3fad-2366-4966-94db-e9a8ec51a506",
   "metadata": {},
   "outputs": [],
   "source": [
    "driver.get(\"https://www.zomato.com/pune/baner-restaurants\")"
   ]
  },
  {
   "cell_type": "code",
   "execution_count": 4,
   "id": "2e7f89b2-87b1-48ff-8b73-583880bba033",
   "metadata": {},
   "outputs": [
    {
     "data": {
      "text/plain": [
       "<selenium.webdriver.remote.webelement.WebElement (session=\"38949de508c23e31e53d9f4be553fa6d\", element=\"f.5E72FFAC1270BDE961577E82560C7322.d.2DA1FC43B3167A5A03107C0319E665DF.e.2074\")>"
      ]
     },
     "execution_count": 4,
     "metadata": {},
     "output_type": "execute_result"
    }
   ],
   "source": [
    "box = driver.find_element(By.CLASS_NAME, 'sc-evWYkj')\n",
    "box"
   ]
  },
  {
   "cell_type": "code",
   "execution_count": 5,
   "id": "1ecfe6d8-fcab-4099-b37f-d73b02ae49e0",
   "metadata": {},
   "outputs": [
    {
     "data": {
      "text/plain": [
       "'Neighbourhud | All Day Bistro'"
      ]
     },
     "execution_count": 5,
     "metadata": {},
     "output_type": "execute_result"
    }
   ],
   "source": [
    "Restaurant = box.find_element(By.CLASS_NAME, 'sc-1hp8d8a-0.sc-Ehqfj.bxOQva').text\n",
    "Restaurant"
   ]
  },
  {
   "cell_type": "code",
   "execution_count": 6,
   "id": "283e366a-3c87-4c07-ab07-0ffb9479401a",
   "metadata": {},
   "outputs": [
    {
     "data": {
      "text/plain": [
       "'Flat 20% OFF'"
      ]
     },
     "execution_count": 6,
     "metadata": {},
     "output_type": "execute_result"
    }
   ],
   "source": [
    "Discount = box.find_element(By.CLASS_NAME, \"walkin-offer-value\").text\n",
    "Discount"
   ]
  },
  {
   "cell_type": "code",
   "execution_count": 7,
   "id": "d9d6149a-f63a-4b9c-8172-5b95148cbc57",
   "metadata": {},
   "outputs": [
    {
     "data": {
      "text/plain": [
       "'North Indian, Biryani, Fast Food, Pizza, Continental, Beverages'"
      ]
     },
     "execution_count": 7,
     "metadata": {},
     "output_type": "execute_result"
    }
   ],
   "source": [
    "Famous_for = box.find_element(By.CLASS_NAME, 'sc-1hez2tp-0.sc-gggouf.fSxdnq').text\n",
    "Famous_for"
   ]
  },
  {
   "cell_type": "code",
   "execution_count": 8,
   "id": "bb7654c9-fd1f-479c-8638-9f2a42877c88",
   "metadata": {},
   "outputs": [
    {
     "data": {
      "text/plain": [
       "'Baner, Pune'"
      ]
     },
     "execution_count": 8,
     "metadata": {},
     "output_type": "execute_result"
    }
   ],
   "source": [
    "Location = box.find_element(By.CLASS_NAME, \"sc-1hez2tp-0.sc-cyQzhP.uIMEk\").text\n",
    "Location"
   ]
  },
  {
   "cell_type": "code",
   "execution_count": 9,
   "id": "6a21d4b5-2372-4ee6-8ff4-29dae49ac78a",
   "metadata": {},
   "outputs": [
    {
     "data": {
      "text/plain": [
       "'4.6'"
      ]
     },
     "execution_count": 9,
     "metadata": {},
     "output_type": "execute_result"
    }
   ],
   "source": [
    "Rating = box.find_element(By.CLASS_NAME, 'sc-1q7bklc-1.cILgox').text\n",
    "Rating"
   ]
  },
  {
   "cell_type": "code",
   "execution_count": 10,
   "id": "81a84efe-192d-44a6-9694-b2b1e15d335a",
   "metadata": {},
   "outputs": [
    {
     "data": {
      "text/plain": [
       "'₹1,500 for two'"
      ]
     },
     "execution_count": 10,
     "metadata": {},
     "output_type": "execute_result"
    }
   ],
   "source": [
    "Cost = box.find_element(By.CLASS_NAME, 'sc-1hez2tp-0.sc-gggouf.KXcjT').text\n",
    "Cost"
   ]
  },
  {
   "cell_type": "code",
   "execution_count": 31,
   "id": "beb951b7-7f48-4be4-84ff-39198ccee699",
   "metadata": {},
   "outputs": [
    {
     "data": {
      "text/plain": [
       "501"
      ]
     },
     "execution_count": 31,
     "metadata": {},
     "output_type": "execute_result"
    }
   ],
   "source": [
    "elements = driver.find_elements(By.CSS_SELECTOR, 'div.jumbo-tracker')\n",
    "len(elements)"
   ]
  },
  {
   "cell_type": "code",
   "execution_count": 32,
   "id": "f26da9d7-e0ea-4682-a908-06e381ee7474",
   "metadata": {},
   "outputs": [],
   "source": [
    "Data = []"
   ]
  },
  {
   "cell_type": "code",
   "execution_count": 33,
   "id": "97f749bd-5a66-4851-b50e-f18b6e69d073",
   "metadata": {},
   "outputs": [],
   "source": [
    "for element in elements:\n",
    "    try:\n",
    "        re = element.find_element(By.TAG_NAME, 'h4').text\n",
    "    except:\n",
    "        print(\"NA\")\n",
    "    try:\n",
    "        ra = element.find_element(By.CSS_SELECTOR, 'div.sc-1q7bklc-1.cILgox').text\n",
    "    except:\n",
    "        print(\"NA\")\n",
    "    try:\n",
    "        FF = element.find_element(By.TAG_NAME, 'p').text\n",
    "    except:\n",
    "        print(\"NA\")\n",
    "    try:\n",
    "        Lo = element.find_element(By.CLASS_NAME, \"sc-1hez2tp-0.sc-cyQzhP.uIMEk\").text\n",
    "    except:\n",
    "        print(\"NA\")\n",
    "    try:\n",
    "        co = element.find_element(By.CLASS_NAME, 'sc-1hez2tp-0.sc-gggouf.KXcjT').text\n",
    "    except:\n",
    "        print(\"NA\")\n",
    "    try:\n",
    "        ds = element.find_element(By.CLASS_NAME, \"min-basic-info-right\").text\n",
    "    except:\n",
    "        print(\"NA\")\n",
    "    dic = {\n",
    "        'Restaurant': re,\n",
    "        'Rating': ra, \n",
    "        'Famous_for': FF,\n",
    "        'Location': Lo,\n",
    "        'Cost': co,\n",
    "        'Distance': ds\n",
    "    }\n",
    "    Data.append(dic)"
   ]
  },
  {
   "cell_type": "code",
   "execution_count": 34,
   "id": "b8baf51e-a27a-439f-aebb-a86fd1dc026b",
   "metadata": {},
   "outputs": [
    {
     "data": {
      "text/html": [
       "<div>\n",
       "<style scoped>\n",
       "    .dataframe tbody tr th:only-of-type {\n",
       "        vertical-align: middle;\n",
       "    }\n",
       "\n",
       "    .dataframe tbody tr th {\n",
       "        vertical-align: top;\n",
       "    }\n",
       "\n",
       "    .dataframe thead th {\n",
       "        text-align: right;\n",
       "    }\n",
       "</style>\n",
       "<table border=\"1\" class=\"dataframe\">\n",
       "  <thead>\n",
       "    <tr style=\"text-align: right;\">\n",
       "      <th></th>\n",
       "      <th>Restaurant</th>\n",
       "      <th>Rating</th>\n",
       "      <th>Famous_for</th>\n",
       "      <th>Location</th>\n",
       "      <th>Cost</th>\n",
       "      <th>Distance</th>\n",
       "    </tr>\n",
       "  </thead>\n",
       "  <tbody>\n",
       "    <tr>\n",
       "      <th>0</th>\n",
       "      <td>Neighbourhud | All Day Bistro</td>\n",
       "      <td>4.6</td>\n",
       "      <td>North Indian, Biryani, Fast Food, Pizza, Conti...</td>\n",
       "      <td>Baner, Pune</td>\n",
       "      <td>₹1,500 for two</td>\n",
       "      <td>691 m</td>\n",
       "    </tr>\n",
       "    <tr>\n",
       "      <th>1</th>\n",
       "      <td>Amora Skyline Lounge &amp; Kitchen</td>\n",
       "      <td>3.8</td>\n",
       "      <td>North Indian, Chinese, Bar Food, Oriental</td>\n",
       "      <td>Hinjawadi, Pune</td>\n",
       "      <td>₹1,000 for two</td>\n",
       "      <td>4.8 km</td>\n",
       "    </tr>\n",
       "    <tr>\n",
       "      <th>2</th>\n",
       "      <td>Bombay Bistro</td>\n",
       "      <td>4.3</td>\n",
       "      <td>Bar Food, Pizza, Asian, North Indian, Oriental</td>\n",
       "      <td>Mahalunge, Pune</td>\n",
       "      <td>₹1,000 for two</td>\n",
       "      <td>3.8 km</td>\n",
       "    </tr>\n",
       "    <tr>\n",
       "      <th>3</th>\n",
       "      <td>The Corner Lounge</td>\n",
       "      <td>4.6</td>\n",
       "      <td>North Indian, Oriental, Continental, Mexican, ...</td>\n",
       "      <td>Baner, Pune</td>\n",
       "      <td>₹2,000 for two</td>\n",
       "      <td>678 m</td>\n",
       "    </tr>\n",
       "    <tr>\n",
       "      <th>4</th>\n",
       "      <td>Prem's</td>\n",
       "      <td>4.4</td>\n",
       "      <td>North Indian, Chinese, Continental, Pizza, Pas...</td>\n",
       "      <td>Baner, Pune</td>\n",
       "      <td>₹1,600 for two</td>\n",
       "      <td>610 m</td>\n",
       "    </tr>\n",
       "  </tbody>\n",
       "</table>\n",
       "</div>"
      ],
      "text/plain": [
       "                       Restaurant Rating  \\\n",
       "0   Neighbourhud | All Day Bistro    4.6   \n",
       "1  Amora Skyline Lounge & Kitchen    3.8   \n",
       "2                   Bombay Bistro    4.3   \n",
       "3               The Corner Lounge    4.6   \n",
       "4                          Prem's    4.4   \n",
       "\n",
       "                                          Famous_for         Location  \\\n",
       "0  North Indian, Biryani, Fast Food, Pizza, Conti...      Baner, Pune   \n",
       "1          North Indian, Chinese, Bar Food, Oriental  Hinjawadi, Pune   \n",
       "2     Bar Food, Pizza, Asian, North Indian, Oriental  Mahalunge, Pune   \n",
       "3  North Indian, Oriental, Continental, Mexican, ...      Baner, Pune   \n",
       "4  North Indian, Chinese, Continental, Pizza, Pas...      Baner, Pune   \n",
       "\n",
       "             Cost Distance  \n",
       "0  ₹1,500 for two    691 m  \n",
       "1  ₹1,000 for two   4.8 km  \n",
       "2  ₹1,000 for two   3.8 km  \n",
       "3  ₹2,000 for two    678 m  \n",
       "4  ₹1,600 for two    610 m  "
      ]
     },
     "execution_count": 34,
     "metadata": {},
     "output_type": "execute_result"
    }
   ],
   "source": [
    "data = pd.DataFrame(Data)\n",
    "data.head()"
   ]
  },
  {
   "cell_type": "code",
   "execution_count": 35,
   "id": "99bd4dfe-953c-416e-aa0b-21a7b756e16b",
   "metadata": {},
   "outputs": [
    {
     "data": {
      "text/plain": [
       "(501, 6)"
      ]
     },
     "execution_count": 35,
     "metadata": {},
     "output_type": "execute_result"
    }
   ],
   "source": [
    "data.shape"
   ]
  },
  {
   "cell_type": "code",
   "execution_count": 42,
   "id": "e4e82592-2a80-4bba-a312-c8c0d549c5e6",
   "metadata": {},
   "outputs": [
    {
     "name": "stdout",
     "output_type": "stream",
     "text": [
      "csv saved successfully\n"
     ]
    }
   ],
   "source": [
    "data.to_csv('Zomato_restaurant_Pune.csv', index = False)\n",
    "print('csv saved successfully')"
   ]
  },
  {
   "cell_type": "code",
   "execution_count": null,
   "id": "2fb7b9d3-9548-4b86-9326-ce0c7e20f60d",
   "metadata": {},
   "outputs": [],
   "source": []
  }
 ],
 "metadata": {
  "kernelspec": {
   "display_name": "Python 3 (ipykernel)",
   "language": "python",
   "name": "python3"
  },
  "language_info": {
   "codemirror_mode": {
    "name": "ipython",
    "version": 3
   },
   "file_extension": ".py",
   "mimetype": "text/x-python",
   "name": "python",
   "nbconvert_exporter": "python",
   "pygments_lexer": "ipython3",
   "version": "3.12.4"
  }
 },
 "nbformat": 4,
 "nbformat_minor": 5
}
